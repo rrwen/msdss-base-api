{
 "cells": [
  {
   "cell_type": "code",
   "execution_count": 1,
   "id": "a4696cfe",
   "metadata": {
    "execution": {
     "iopub.execute_input": "2021-09-20T06:47:51.747291Z",
     "iopub.status.busy": "2021-09-20T06:47:51.744113Z",
     "iopub.status.idle": "2021-09-20T06:47:51.853896Z",
     "shell.execute_reply": "2021-09-20T06:47:51.854152Z"
    }
   },
   "outputs": [],
   "source": [
    "from msdss_base_api import API\n",
    "app = API()\n",
    "\n",
    "# Add via function\n",
    "def hello_world():\n",
    "   return \"hello world!\"\n",
    "app.add_route(\"GET\", \"/\", hello_world)\n",
    "\n",
    "# Add via decorator\n",
    "@app.add(\"GET\", \"/two\")\n",
    "def hello_world2():\n",
    "   return \"hello world 2!\"\n",
    "\n",
    "# Run the app with app.start()\n",
    "# API is hosted at http://localhost:8000\n",
    "# app.start()"
   ]
  },
  {
   "cell_type": "code",
   "execution_count": 2,
   "id": "b9205b86",
   "metadata": {
    "execution": {
     "iopub.execute_input": "2021-09-20T06:47:51.857426Z",
     "iopub.status.busy": "2021-09-20T06:47:51.856969Z",
     "iopub.status.idle": "2021-09-20T06:47:51.858170Z",
     "shell.execute_reply": "2021-09-20T06:47:51.858396Z"
    }
   },
   "outputs": [],
   "source": [
    "from msdss_base_api.core import API\n",
    "app = API()\n",
    "\n",
    "# Add via function\n",
    "def hello_world():\n",
    "    return \"hello world!\"\n",
    "app.add_route(\"GET\", \"/\", hello_world)\n",
    "\n",
    "# Add via decorator\n",
    "@app.add(\"GET\", \"/two\")\n",
    "def hello_world2():\n",
    "    return \"hello world 2!\"\n",
    "\n",
    "# Run the app with app.start()\n",
    "# API is hosted at http://localhost:8000\n",
    "# app.start()"
   ]
  },
  {
   "cell_type": "code",
   "execution_count": 3,
   "id": "70554be0",
   "metadata": {
    "execution": {
     "iopub.execute_input": "2021-09-20T06:47:51.860898Z",
     "iopub.status.busy": "2021-09-20T06:47:51.860513Z",
     "iopub.status.idle": "2021-09-20T06:47:51.861727Z",
     "shell.execute_reply": "2021-09-20T06:47:51.862050Z"
    }
   },
   "outputs": [],
   "source": [
    "from msdss_base_api.core import API\n",
    "app = API()\n",
    "\n",
    "@app.add(\"GET\", \"/\")\n",
    "def hello_world():\n",
    "    return \"hello world!\""
   ]
  },
  {
   "cell_type": "code",
   "execution_count": 4,
   "id": "231bf10d",
   "metadata": {
    "execution": {
     "iopub.execute_input": "2021-09-20T06:47:51.864620Z",
     "iopub.status.busy": "2021-09-20T06:47:51.864187Z",
     "iopub.status.idle": "2021-09-20T06:47:51.865307Z",
     "shell.execute_reply": "2021-09-20T06:47:51.865577Z"
    }
   },
   "outputs": [],
   "source": [
    "from msdss_base_api.core import API\n",
    "app = API()\n",
    "\n",
    "def hello_world():\n",
    "    return \"hello world!\"\n",
    "app.add_route(\"GET\", \"/\", hello_world)"
   ]
  },
  {
   "cell_type": "code",
   "execution_count": 5,
   "id": "66646570",
   "metadata": {
    "execution": {
     "iopub.execute_input": "2021-09-20T06:47:51.868704Z",
     "iopub.status.busy": "2021-09-20T06:47:51.868329Z",
     "iopub.status.idle": "2021-09-20T06:47:51.869589Z",
     "shell.execute_reply": "2021-09-20T06:47:51.869903Z"
    }
   },
   "outputs": [],
   "source": [
    "from msdss_base_api.core import API\n",
    "app = API()\n",
    "\n",
    "def hello_world():\n",
    "    return \"hello world!\"\n",
    "\n",
    "def hello_world2():\n",
    "    return \"hello world 2!\"\n",
    "\n",
    "routes = [\n",
    "    {\"method\": \"GET\", \"path\": \"/\", \"func\": hello_world},\n",
    "    {\"method\": \"GET\", \"path\": \"/two\", \"func\": hello_world2},\n",
    "]\n",
    "\n",
    "app.add_routes(routes)"
   ]
  },
  {
   "cell_type": "code",
   "execution_count": 6,
   "id": "f70a684c",
   "metadata": {
    "execution": {
     "iopub.execute_input": "2021-09-20T06:47:51.872532Z",
     "iopub.status.busy": "2021-09-20T06:47:51.872114Z",
     "iopub.status.idle": "2021-09-20T06:47:51.873321Z",
     "shell.execute_reply": "2021-09-20T06:47:51.873572Z"
    }
   },
   "outputs": [],
   "source": [
    "from msdss_base_api.core import API\n",
    "app = API()\n",
    "\n",
    "def hello_world():\n",
    "    return \"hello world!\"\n",
    "app.add_route(\"GET\", \"/\", hello_world)\n",
    "\n",
    "# Run the app with app.start()\n",
    "# API is hosted at http://localhost:8000\n",
    "# app.start()"
   ]
  }
 ],
 "metadata": {
  "kernelspec": {
   "display_name": "Python 3 (ipykernel)",
   "language": "python",
   "name": "python3"
  },
  "language_info": {
   "codemirror_mode": {
    "name": "ipython",
    "version": 3
   },
   "file_extension": ".py",
   "mimetype": "text/x-python",
   "name": "python",
   "nbconvert_exporter": "python",
   "pygments_lexer": "ipython3",
   "version": "3.7.10"
  }
 },
 "nbformat": 4,
 "nbformat_minor": 5
}