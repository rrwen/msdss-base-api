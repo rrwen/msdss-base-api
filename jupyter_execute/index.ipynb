{
 "cells": [
  {
   "cell_type": "code",
   "execution_count": 1,
   "id": "00a0b4d8",
   "metadata": {
    "execution": {
     "iopub.execute_input": "2021-09-20T08:02:55.867369Z",
     "iopub.status.busy": "2021-09-20T08:02:55.866593Z",
     "iopub.status.idle": "2021-09-20T08:02:55.954874Z",
     "shell.execute_reply": "2021-09-20T08:02:55.955147Z"
    }
   },
   "outputs": [],
   "source": [
    "from msdss_base_api import API\n",
    "app = API()\n",
    "\n",
    "# Add route via function\n",
    "def hello_world():\n",
    "   return \"hello world!\"\n",
    "app.add_route(\"GET\", \"/\", hello_world)\n",
    "\n",
    "# Add route via decorator\n",
    "@app.add(\"GET\", \"/two\")\n",
    "def hello_world2():\n",
    "   return \"hello world 2!\"\n",
    "\n",
    "# Run the app with app.start()\n",
    "# API is hosted at http://localhost:8000\n",
    "# app.start()"
   ]
  },
  {
   "cell_type": "code",
   "execution_count": 2,
   "id": "edfa7828",
   "metadata": {
    "execution": {
     "iopub.execute_input": "2021-09-20T08:02:55.958279Z",
     "iopub.status.busy": "2021-09-20T08:02:55.957883Z",
     "iopub.status.idle": "2021-09-20T08:02:55.959048Z",
     "shell.execute_reply": "2021-09-20T08:02:55.959368Z"
    }
   },
   "outputs": [],
   "source": [
    "from msdss_base_api.core import API\n",
    "app = API()\n",
    "\n",
    "# Add route via function\n",
    "def hello_world():\n",
    "    return \"hello world!\"\n",
    "app.add_route(\"GET\", \"/\", hello_world)\n",
    "\n",
    "# Add route via decorator\n",
    "@app.add(\"GET\", \"/two\")\n",
    "def hello_world2():\n",
    "    return \"hello world 2!\"\n",
    "\n",
    "# Run the app with app.start()\n",
    "# API is hosted at http://localhost:8000\n",
    "# app.start()"
   ]
  },
  {
   "cell_type": "code",
   "execution_count": 3,
   "id": "65d6901c",
   "metadata": {
    "execution": {
     "iopub.execute_input": "2021-09-20T08:02:55.961954Z",
     "iopub.status.busy": "2021-09-20T08:02:55.961486Z",
     "iopub.status.idle": "2021-09-20T08:02:55.962616Z",
     "shell.execute_reply": "2021-09-20T08:02:55.962864Z"
    }
   },
   "outputs": [],
   "source": [
    "from msdss_base_api.core import API\n",
    "app = API()\n",
    "\n",
    "@app.add(\"GET\", \"/\")\n",
    "def hello_world():\n",
    "    return \"hello world!\""
   ]
  },
  {
   "cell_type": "code",
   "execution_count": 4,
   "id": "ada11115",
   "metadata": {
    "execution": {
     "iopub.execute_input": "2021-09-20T08:02:55.965357Z",
     "iopub.status.busy": "2021-09-20T08:02:55.964974Z",
     "iopub.status.idle": "2021-09-20T08:02:55.966183Z",
     "shell.execute_reply": "2021-09-20T08:02:55.966566Z"
    }
   },
   "outputs": [],
   "source": [
    "from msdss_base_api.core import API\n",
    "app = API()\n",
    "\n",
    "def hello_world():\n",
    "    return \"hello world!\"\n",
    "app.add_route(\"GET\", \"/\", hello_world)"
   ]
  },
  {
   "cell_type": "code",
   "execution_count": 5,
   "id": "c9a9769e",
   "metadata": {
    "execution": {
     "iopub.execute_input": "2021-09-20T08:02:55.969551Z",
     "iopub.status.busy": "2021-09-20T08:02:55.969169Z",
     "iopub.status.idle": "2021-09-20T08:02:55.970421Z",
     "shell.execute_reply": "2021-09-20T08:02:55.970733Z"
    }
   },
   "outputs": [],
   "source": [
    "from msdss_base_api.core import API\n",
    "app = API()\n",
    "\n",
    "def hello_world():\n",
    "    return \"hello world!\"\n",
    "\n",
    "def hello_world2():\n",
    "    return \"hello world 2!\"\n",
    "\n",
    "routes = [\n",
    "    {\"method\": \"GET\", \"path\": \"/\", \"func\": hello_world},\n",
    "    {\"method\": \"GET\", \"path\": \"/two\", \"func\": hello_world2},\n",
    "]\n",
    "\n",
    "app.add_routes(routes)"
   ]
  },
  {
   "cell_type": "code",
   "execution_count": 6,
   "id": "e795d18b",
   "metadata": {
    "execution": {
     "iopub.execute_input": "2021-09-20T08:02:55.973297Z",
     "iopub.status.busy": "2021-09-20T08:02:55.972931Z",
     "iopub.status.idle": "2021-09-20T08:02:55.974291Z",
     "shell.execute_reply": "2021-09-20T08:02:55.974519Z"
    }
   },
   "outputs": [],
   "source": [
    "from msdss_base_api.core import API\n",
    "app = API()\n",
    "\n",
    "def hello_world():\n",
    "    return \"hello world!\"\n",
    "app.add_route(\"GET\", \"/\", hello_world)\n",
    "\n",
    "# Run the app with app.start()\n",
    "# API is hosted at http://localhost:8000\n",
    "# app.start()"
   ]
  }
 ],
 "metadata": {
  "kernelspec": {
   "display_name": "Python 3 (ipykernel)",
   "language": "python",
   "name": "python3"
  },
  "language_info": {
   "codemirror_mode": {
    "name": "ipython",
    "version": 3
   },
   "file_extension": ".py",
   "mimetype": "text/x-python",
   "name": "python",
   "nbconvert_exporter": "python",
   "pygments_lexer": "ipython3",
   "version": "3.7.10"
  }
 },
 "nbformat": 4,
 "nbformat_minor": 5
}